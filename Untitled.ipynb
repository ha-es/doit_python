{
 "cells": [
  {
   "cell_type": "code",
   "execution_count": 2,
   "id": "3574b756",
   "metadata": {},
   "outputs": [],
   "source": [
    "import pandas as pd"
   ]
  },
  {
   "cell_type": "code",
   "execution_count": 7,
   "id": "54d0fb3e",
   "metadata": {},
   "outputs": [
    {
     "data": {
      "text/html": [
       "<div>\n",
       "<style scoped>\n",
       "    .dataframe tbody tr th:only-of-type {\n",
       "        vertical-align: middle;\n",
       "    }\n",
       "\n",
       "    .dataframe tbody tr th {\n",
       "        vertical-align: top;\n",
       "    }\n",
       "\n",
       "    .dataframe thead th {\n",
       "        text-align: right;\n",
       "    }\n",
       "</style>\n",
       "<table border=\"1\" class=\"dataframe\">\n",
       "  <thead>\n",
       "    <tr style=\"text-align: right;\">\n",
       "      <th></th>\n",
       "      <th>읍면동</th>\n",
       "      <th>위치</th>\n",
       "      <th>인근주소</th>\n",
       "      <th>데이터기준일자</th>\n",
       "    </tr>\n",
       "  </thead>\n",
       "  <tbody>\n",
       "    <tr>\n",
       "      <th>0</th>\n",
       "      <td>대정읍</td>\n",
       "      <td>매일시장 뒤</td>\n",
       "      <td>제주특별자치도 서귀포시 대정읍 하모리 814-2</td>\n",
       "      <td>2022-01-31</td>\n",
       "    </tr>\n",
       "    <tr>\n",
       "      <th>1</th>\n",
       "      <td>대정읍</td>\n",
       "      <td>산이수동 버스정류장</td>\n",
       "      <td>제주특별자치도 서귀포시 대정읍 상모리 125-1</td>\n",
       "      <td>2022-01-31</td>\n",
       "    </tr>\n",
       "    <tr>\n",
       "      <th>2</th>\n",
       "      <td>대정읍</td>\n",
       "      <td>안나식당 동쪽</td>\n",
       "      <td>제주특별자치도 서귀포시 대정읍 하모리 977-5</td>\n",
       "      <td>2022-01-31</td>\n",
       "    </tr>\n",
       "    <tr>\n",
       "      <th>3</th>\n",
       "      <td>대정읍</td>\n",
       "      <td>상모1리사무소</td>\n",
       "      <td>제주특별자치도 서귀포시 대정읍 상모리 2652-1</td>\n",
       "      <td>2022-01-31</td>\n",
       "    </tr>\n",
       "    <tr>\n",
       "      <th>4</th>\n",
       "      <td>대정읍</td>\n",
       "      <td>보성리 마을회관 북쪽 삼거리</td>\n",
       "      <td>제주특별자치도 서귀포시 대정읍 보성리 1577-1</td>\n",
       "      <td>2022-01-31</td>\n",
       "    </tr>\n",
       "    <tr>\n",
       "      <th>...</th>\n",
       "      <td>...</td>\n",
       "      <td>...</td>\n",
       "      <td>...</td>\n",
       "      <td>...</td>\n",
       "    </tr>\n",
       "    <tr>\n",
       "      <th>408</th>\n",
       "      <td>예래동</td>\n",
       "      <td>주민센터 밑</td>\n",
       "      <td>제주특별자치도 서귀포시 상예동 531-5</td>\n",
       "      <td>2022-01-31</td>\n",
       "    </tr>\n",
       "    <tr>\n",
       "      <th>409</th>\n",
       "      <td>예래동</td>\n",
       "      <td>마을금고 서쪽</td>\n",
       "      <td>제주특별자치도 서귀포시 상예동 3172-1</td>\n",
       "      <td>2022-01-31</td>\n",
       "    </tr>\n",
       "    <tr>\n",
       "      <th>410</th>\n",
       "      <td>예래동</td>\n",
       "      <td>하예하동마을회관</td>\n",
       "      <td>제주특별자치도 서귀포시 예래로 416</td>\n",
       "      <td>2022-01-31</td>\n",
       "    </tr>\n",
       "    <tr>\n",
       "      <th>411</th>\n",
       "      <td>예래동</td>\n",
       "      <td>대평입구</td>\n",
       "      <td>제주특별자치도 서귀포시 하예동 1831-3</td>\n",
       "      <td>2022-01-31</td>\n",
       "    </tr>\n",
       "    <tr>\n",
       "      <th>412</th>\n",
       "      <td>예래동</td>\n",
       "      <td>논지물 입구</td>\n",
       "      <td>제주특별자치도 서귀포시 예래로 253</td>\n",
       "      <td>2022-01-31</td>\n",
       "    </tr>\n",
       "  </tbody>\n",
       "</table>\n",
       "<p>413 rows × 4 columns</p>\n",
       "</div>"
      ],
      "text/plain": [
       "     읍면동               위치                         인근주소     데이터기준일자\n",
       "0    대정읍           매일시장 뒤   제주특별자치도 서귀포시 대정읍 하모리 814-2  2022-01-31\n",
       "1    대정읍       산이수동 버스정류장   제주특별자치도 서귀포시 대정읍 상모리 125-1  2022-01-31\n",
       "2    대정읍          안나식당 동쪽   제주특별자치도 서귀포시 대정읍 하모리 977-5  2022-01-31\n",
       "3    대정읍          상모1리사무소  제주특별자치도 서귀포시 대정읍 상모리 2652-1  2022-01-31\n",
       "4    대정읍  보성리 마을회관 북쪽 삼거리  제주특별자치도 서귀포시 대정읍 보성리 1577-1  2022-01-31\n",
       "..   ...              ...                          ...         ...\n",
       "408  예래동           주민센터 밑       제주특별자치도 서귀포시 상예동 531-5  2022-01-31\n",
       "409  예래동          마을금고 서쪽      제주특별자치도 서귀포시 상예동 3172-1  2022-01-31\n",
       "410  예래동         하예하동마을회관         제주특별자치도 서귀포시 예래로 416  2022-01-31\n",
       "411  예래동             대평입구      제주특별자치도 서귀포시 하예동 1831-3  2022-01-31\n",
       "412  예래동           논지물 입구         제주특별자치도 서귀포시 예래로 253  2022-01-31\n",
       "\n",
       "[413 rows x 4 columns]"
      ]
     },
     "execution_count": 7,
     "metadata": {},
     "output_type": "execute_result"
    }
   ],
   "source": [
    "#한글 꺠짐 ->encoding = \"cp949\"\n",
    "df = pd.read_csv('jeju_cleanhouse_2022.csv', encoding = \"cp949\")\n",
    "df"
   ]
  },
  {
   "cell_type": "code",
   "execution_count": 8,
   "id": "6e823533",
   "metadata": {},
   "outputs": [
    {
     "name": "stdout",
     "output_type": "stream",
     "text": [
      "<class 'pandas.core.frame.DataFrame'>\n",
      "RangeIndex: 413 entries, 0 to 412\n",
      "Data columns (total 4 columns):\n",
      " #   Column   Non-Null Count  Dtype \n",
      "---  ------   --------------  ----- \n",
      " 0   읍면동      413 non-null    object\n",
      " 1   위치       413 non-null    object\n",
      " 2   인근주소     413 non-null    object\n",
      " 3   데이터기준일자  413 non-null    object\n",
      "dtypes: object(4)\n",
      "memory usage: 13.0+ KB\n"
     ]
    }
   ],
   "source": [
    "df.info()"
   ]
  },
  {
   "cell_type": "markdown",
   "id": "b1a67d34",
   "metadata": {},
   "source": [
    "## 서귀포시에 위치한 클린하우스 지도로 위치 파악하기"
   ]
  },
  {
   "cell_type": "code",
   "execution_count": 9,
   "id": "29569e71",
   "metadata": {},
   "outputs": [
    {
     "ename": "FileNotFoundError",
     "evalue": "[Errno 2] No such file or directory: 'SIG.geojson'",
     "output_type": "error",
     "traceback": [
      "\u001b[1;31m---------------------------------------------------------------------------\u001b[0m",
      "\u001b[1;31mFileNotFoundError\u001b[0m                         Traceback (most recent call last)",
      "\u001b[1;32m<ipython-input-9-0c8dca04f4b1>\u001b[0m in \u001b[0;36m<module>\u001b[1;34m\u001b[0m\n\u001b[0;32m      1\u001b[0m \u001b[1;32mimport\u001b[0m \u001b[0mjson\u001b[0m\u001b[1;33m\u001b[0m\u001b[1;33m\u001b[0m\u001b[0m\n\u001b[1;32m----> 2\u001b[1;33m \u001b[0mgeo\u001b[0m \u001b[1;33m=\u001b[0m \u001b[0mjson\u001b[0m\u001b[1;33m.\u001b[0m\u001b[0mload\u001b[0m\u001b[1;33m(\u001b[0m\u001b[0mopen\u001b[0m\u001b[1;33m(\u001b[0m\u001b[1;34m'SIG.geojson'\u001b[0m\u001b[1;33m,\u001b[0m \u001b[0mencoding\u001b[0m\u001b[1;33m=\u001b[0m\u001b[1;34m'cp949'\u001b[0m\u001b[1;33m)\u001b[0m\u001b[1;33m)\u001b[0m\u001b[1;33m\u001b[0m\u001b[1;33m\u001b[0m\u001b[0m\n\u001b[0m",
      "\u001b[1;31mFileNotFoundError\u001b[0m: [Errno 2] No such file or directory: 'SIG.geojson'"
     ]
    }
   ],
   "source": [
    "import json\n",
    "geo = json.load(open('SIG.geojson', encoding='cp949'))"
   ]
  },
  {
   "cell_type": "code",
   "execution_count": null,
   "id": "d879a16c",
   "metadata": {},
   "outputs": [],
   "source": []
  }
 ],
 "metadata": {
  "kernelspec": {
   "display_name": "Python 3",
   "language": "python",
   "name": "python3"
  },
  "language_info": {
   "codemirror_mode": {
    "name": "ipython",
    "version": 3
   },
   "file_extension": ".py",
   "mimetype": "text/x-python",
   "name": "python",
   "nbconvert_exporter": "python",
   "pygments_lexer": "ipython3",
   "version": "3.7.6"
  }
 },
 "nbformat": 4,
 "nbformat_minor": 5
}
