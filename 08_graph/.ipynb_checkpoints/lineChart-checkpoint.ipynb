{
 "cells": [
  {
   "cell_type": "code",
   "execution_count": 1,
   "metadata": {},
   "outputs": [],
   "source": [
    "import pandas as pd\n",
    "import seaborn as sns"
   ]
  },
  {
   "cell_type": "code",
   "execution_count": 3,
   "metadata": {},
   "outputs": [
    {
     "data": {
      "text/html": [
       "<div>\n",
       "<style scoped>\n",
       "    .dataframe tbody tr th:only-of-type {\n",
       "        vertical-align: middle;\n",
       "    }\n",
       "\n",
       "    .dataframe tbody tr th {\n",
       "        vertical-align: top;\n",
       "    }\n",
       "\n",
       "    .dataframe thead th {\n",
       "        text-align: right;\n",
       "    }\n",
       "</style>\n",
       "<table border=\"1\" class=\"dataframe\">\n",
       "  <thead>\n",
       "    <tr style=\"text-align: right;\">\n",
       "      <th></th>\n",
       "      <th>date</th>\n",
       "      <th>pce</th>\n",
       "      <th>pop</th>\n",
       "      <th>psavert</th>\n",
       "      <th>uempmed</th>\n",
       "      <th>unemploy</th>\n",
       "    </tr>\n",
       "  </thead>\n",
       "  <tbody>\n",
       "    <tr>\n",
       "      <th>0</th>\n",
       "      <td>1967-07-01</td>\n",
       "      <td>506.7</td>\n",
       "      <td>198712.0</td>\n",
       "      <td>12.6</td>\n",
       "      <td>4.5</td>\n",
       "      <td>2944</td>\n",
       "    </tr>\n",
       "    <tr>\n",
       "      <th>1</th>\n",
       "      <td>1967-08-01</td>\n",
       "      <td>509.8</td>\n",
       "      <td>198911.0</td>\n",
       "      <td>12.6</td>\n",
       "      <td>4.7</td>\n",
       "      <td>2945</td>\n",
       "    </tr>\n",
       "    <tr>\n",
       "      <th>2</th>\n",
       "      <td>1967-09-01</td>\n",
       "      <td>515.6</td>\n",
       "      <td>199113.0</td>\n",
       "      <td>11.9</td>\n",
       "      <td>4.6</td>\n",
       "      <td>2958</td>\n",
       "    </tr>\n",
       "    <tr>\n",
       "      <th>3</th>\n",
       "      <td>1967-10-01</td>\n",
       "      <td>512.2</td>\n",
       "      <td>199311.0</td>\n",
       "      <td>12.9</td>\n",
       "      <td>4.9</td>\n",
       "      <td>3143</td>\n",
       "    </tr>\n",
       "    <tr>\n",
       "      <th>4</th>\n",
       "      <td>1967-11-01</td>\n",
       "      <td>517.4</td>\n",
       "      <td>199498.0</td>\n",
       "      <td>12.8</td>\n",
       "      <td>4.7</td>\n",
       "      <td>3066</td>\n",
       "    </tr>\n",
       "  </tbody>\n",
       "</table>\n",
       "</div>"
      ],
      "text/plain": [
       "         date    pce       pop  psavert  uempmed  unemploy\n",
       "0  1967-07-01  506.7  198712.0     12.6      4.5      2944\n",
       "1  1967-08-01  509.8  198911.0     12.6      4.7      2945\n",
       "2  1967-09-01  515.6  199113.0     11.9      4.6      2958\n",
       "3  1967-10-01  512.2  199311.0     12.9      4.9      3143\n",
       "4  1967-11-01  517.4  199498.0     12.8      4.7      3066"
      ]
     },
     "execution_count": 3,
     "metadata": {},
     "output_type": "execute_result"
    }
   ],
   "source": [
    "economics = pd.read_csv('economics.csv')\n",
    "economics.head()"
   ]
  },
  {
   "cell_type": "code",
   "execution_count": 5,
   "metadata": {},
   "outputs": [
    {
     "data": {
      "image/png": "[encoded data removed]",
      "text/plain": [
       "<Figure size 432x288 with 1 Axes>"
      ]
     },
     "metadata": {
      "needs_background": "light"
     },
     "output_type": "display_data"
    }
   ],
   "source": [
    "sns.lineplot( data = economics, x='date',y='unemploy');"
   ]
  },
  {
   "cell_type": "code",
   "execution_count": 6,
   "metadata": {},
   "outputs": [
    {
     "name": "stdout",
     "output_type": "stream",
     "text": [
      "<class 'pandas.core.frame.DataFrame'>\n",
      "RangeIndex: 574 entries, 0 to 573\n",
      "Data columns (total 7 columns):\n",
      " #   Column    Non-Null Count  Dtype         \n",
      "---  ------    --------------  -----         \n",
      " 0   date      574 non-null    object        \n",
      " 1   pce       574 non-null    float64       \n",
      " 2   pop       574 non-null    float64       \n",
      " 3   psavert   574 non-null    float64       \n",
      " 4   uempmed   574 non-null    float64       \n",
      " 5   unemploy  574 non-null    int64         \n",
      " 6   date2     574 non-null    datetime64[ns]\n",
      "dtypes: datetime64[ns](1), float64(4), int64(1), object(1)\n",
      "memory usage: 31.5+ KB\n"
     ]
    }
   ],
   "source": [
    "# 날짜 시간 타입 변수 만들기\n",
    "economics['date2']= pd.to_datetime(economics['date'])\n",
    "\n",
    "# 변수 타입 확인\n",
    "economics.info()"
   ]
  },
  {
   "cell_type": "code",
   "execution_count": 9,
   "metadata": {},
   "outputs": [
    {
     "data": {
      "text/html": [
       "<div>\n",
       "<style scoped>\n",
       "    .dataframe tbody tr th:only-of-type {\n",
       "        vertical-align: middle;\n",
       "    }\n",
       "\n",
       "    .dataframe tbody tr th {\n",
       "        vertical-align: top;\n",
       "    }\n",
       "\n",
       "    .dataframe thead th {\n",
       "        text-align: right;\n",
       "    }\n",
       "</style>\n",
       "<table border=\"1\" class=\"dataframe\">\n",
       "  <thead>\n",
       "    <tr style=\"text-align: right;\">\n",
       "      <th></th>\n",
       "      <th>date</th>\n",
       "      <th>date2</th>\n",
       "    </tr>\n",
       "  </thead>\n",
       "  <tbody>\n",
       "    <tr>\n",
       "      <th>0</th>\n",
       "      <td>1967-07-01</td>\n",
       "      <td>1967-07-01</td>\n",
       "    </tr>\n",
       "    <tr>\n",
       "      <th>1</th>\n",
       "      <td>1967-08-01</td>\n",
       "      <td>1967-08-01</td>\n",
       "    </tr>\n",
       "    <tr>\n",
       "      <th>2</th>\n",
       "      <td>1967-09-01</td>\n",
       "      <td>1967-09-01</td>\n",
       "    </tr>\n",
       "    <tr>\n",
       "      <th>3</th>\n",
       "      <td>1967-10-01</td>\n",
       "      <td>1967-10-01</td>\n",
       "    </tr>\n",
       "    <tr>\n",
       "      <th>4</th>\n",
       "      <td>1967-11-01</td>\n",
       "      <td>1967-11-01</td>\n",
       "    </tr>\n",
       "    <tr>\n",
       "      <th>...</th>\n",
       "      <td>...</td>\n",
       "      <td>...</td>\n",
       "    </tr>\n",
       "    <tr>\n",
       "      <th>569</th>\n",
       "      <td>2014-12-01</td>\n",
       "      <td>2014-12-01</td>\n",
       "    </tr>\n",
       "    <tr>\n",
       "      <th>570</th>\n",
       "      <td>2015-01-01</td>\n",
       "      <td>2015-01-01</td>\n",
       "    </tr>\n",
       "    <tr>\n",
       "      <th>571</th>\n",
       "      <td>2015-02-01</td>\n",
       "      <td>2015-02-01</td>\n",
       "    </tr>\n",
       "    <tr>\n",
       "      <th>572</th>\n",
       "      <td>2015-03-01</td>\n",
       "      <td>2015-03-01</td>\n",
       "    </tr>\n",
       "    <tr>\n",
       "      <th>573</th>\n",
       "      <td>2015-04-01</td>\n",
       "      <td>2015-04-01</td>\n",
       "    </tr>\n",
       "  </tbody>\n",
       "</table>\n",
       "<p>574 rows × 2 columns</p>\n",
       "</div>"
      ],
      "text/plain": [
       "           date      date2\n",
       "0    1967-07-01 1967-07-01\n",
       "1    1967-08-01 1967-08-01\n",
       "2    1967-09-01 1967-09-01\n",
       "3    1967-10-01 1967-10-01\n",
       "4    1967-11-01 1967-11-01\n",
       "..          ...        ...\n",
       "569  2014-12-01 2014-12-01\n",
       "570  2015-01-01 2015-01-01\n",
       "571  2015-02-01 2015-02-01\n",
       "572  2015-03-01 2015-03-01\n",
       "573  2015-04-01 2015-04-01\n",
       "\n",
       "[574 rows x 2 columns]"
      ]
     },
     "execution_count": 9,
     "metadata": {},
     "output_type": "execute_result"
    }
   ],
   "source": [
    "economics[['date','date2']]"
   ]
  },
  {
   "cell_type": "code",
   "execution_count": 10,
   "metadata": {},
   "outputs": [
    {
     "data": {
      "text/plain": [
       "0      1967\n",
       "1      1967\n",
       "2      1967\n",
       "3      1967\n",
       "4      1967\n",
       "       ... \n",
       "569    2014\n",
       "570    2015\n",
       "571    2015\n",
       "572    2015\n",
       "573    2015\n",
       "Name: date2, Length: 574, dtype: int64"
      ]
     },
     "execution_count": 10,
     "metadata": {},
     "output_type": "execute_result"
    }
   ],
   "source": [
    "# 연 추출\n",
    "economics['date2'].dt.year"
   ]
  },
  {
   "cell_type": "code",
   "execution_count": 11,
   "metadata": {},
   "outputs": [
    {
     "data": {
      "text/plain": [
       "0       7\n",
       "1       8\n",
       "2       9\n",
       "3      10\n",
       "4      11\n",
       "       ..\n",
       "569    12\n",
       "570     1\n",
       "571     2\n",
       "572     3\n",
       "573     4\n",
       "Name: date2, Length: 574, dtype: int64"
      ]
     },
     "execution_count": 11,
     "metadata": {},
     "output_type": "execute_result"
    }
   ],
   "source": [
    "# 월 추출\n",
    "economics['date2'].dt.month"
   ]
  },
  {
   "cell_type": "code",
   "execution_count": 13,
   "metadata": {},
   "outputs": [
    {
     "data": {
      "text/plain": [
       "0      1\n",
       "1      1\n",
       "2      1\n",
       "3      1\n",
       "4      1\n",
       "      ..\n",
       "569    1\n",
       "570    1\n",
       "571    1\n",
       "572    1\n",
       "573    1\n",
       "Name: date2, Length: 574, dtype: int64"
      ]
     },
     "execution_count": 13,
     "metadata": {},
     "output_type": "execute_result"
    }
   ],
   "source": [
    "# 일 추출\n",
    "economics['date2'].dt.day"
   ]
  },
  {
   "cell_type": "code",
   "execution_count": 14,
   "metadata": {},
   "outputs": [
    {
     "data": {
      "text/html": [
       "<div>\n",
       "<style scoped>\n",
       "    .dataframe tbody tr th:only-of-type {\n",
       "        vertical-align: middle;\n",
       "    }\n",
       "\n",
       "    .dataframe tbody tr th {\n",
       "        vertical-align: top;\n",
       "    }\n",
       "\n",
       "    .dataframe thead th {\n",
       "        text-align: right;\n",
       "    }\n",
       "</style>\n",
       "<table border=\"1\" class=\"dataframe\">\n",
       "  <thead>\n",
       "    <tr style=\"text-align: right;\">\n",
       "      <th></th>\n",
       "      <th>date</th>\n",
       "      <th>pce</th>\n",
       "      <th>pop</th>\n",
       "      <th>psavert</th>\n",
       "      <th>uempmed</th>\n",
       "      <th>unemploy</th>\n",
       "      <th>date2</th>\n",
       "      <th>year</th>\n",
       "    </tr>\n",
       "  </thead>\n",
       "  <tbody>\n",
       "    <tr>\n",
       "      <th>0</th>\n",
       "      <td>1967-07-01</td>\n",
       "      <td>506.7</td>\n",
       "      <td>198712.0</td>\n",
       "      <td>12.6</td>\n",
       "      <td>4.5</td>\n",
       "      <td>2944</td>\n",
       "      <td>1967-07-01</td>\n",
       "      <td>1967</td>\n",
       "    </tr>\n",
       "    <tr>\n",
       "      <th>1</th>\n",
       "      <td>1967-08-01</td>\n",
       "      <td>509.8</td>\n",
       "      <td>198911.0</td>\n",
       "      <td>12.6</td>\n",
       "      <td>4.7</td>\n",
       "      <td>2945</td>\n",
       "      <td>1967-08-01</td>\n",
       "      <td>1967</td>\n",
       "    </tr>\n",
       "    <tr>\n",
       "      <th>2</th>\n",
       "      <td>1967-09-01</td>\n",
       "      <td>515.6</td>\n",
       "      <td>199113.0</td>\n",
       "      <td>11.9</td>\n",
       "      <td>4.6</td>\n",
       "      <td>2958</td>\n",
       "      <td>1967-09-01</td>\n",
       "      <td>1967</td>\n",
       "    </tr>\n",
       "    <tr>\n",
       "      <th>3</th>\n",
       "      <td>1967-10-01</td>\n",
       "      <td>512.2</td>\n",
       "      <td>199311.0</td>\n",
       "      <td>12.9</td>\n",
       "      <td>4.9</td>\n",
       "      <td>3143</td>\n",
       "      <td>1967-10-01</td>\n",
       "      <td>1967</td>\n",
       "    </tr>\n",
       "    <tr>\n",
       "      <th>4</th>\n",
       "      <td>1967-11-01</td>\n",
       "      <td>517.4</td>\n",
       "      <td>199498.0</td>\n",
       "      <td>12.8</td>\n",
       "      <td>4.7</td>\n",
       "      <td>3066</td>\n",
       "      <td>1967-11-01</td>\n",
       "      <td>1967</td>\n",
       "    </tr>\n",
       "  </tbody>\n",
       "</table>\n",
       "</div>"
      ],
      "text/plain": [
       "         date    pce       pop  psavert  uempmed  unemploy      date2  year\n",
       "0  1967-07-01  506.7  198712.0     12.6      4.5      2944 1967-07-01  1967\n",
       "1  1967-08-01  509.8  198911.0     12.6      4.7      2945 1967-08-01  1967\n",
       "2  1967-09-01  515.6  199113.0     11.9      4.6      2958 1967-09-01  1967\n",
       "3  1967-10-01  512.2  199311.0     12.9      4.9      3143 1967-10-01  1967\n",
       "4  1967-11-01  517.4  199498.0     12.8      4.7      3066 1967-11-01  1967"
      ]
     },
     "execution_count": 14,
     "metadata": {},
     "output_type": "execute_result"
    }
   ],
   "source": [
    "# 연도 변수 추가\n",
    "economics['year'] = economics['date2'].dt.year\n",
    "economics.head()"
   ]
  },
  {
   "cell_type": "code",
   "execution_count": 15,
   "metadata": {},
   "outputs": [
    {
     "data": {
      "image/png": "[encoded data removed]",
      "text/plain": [
       "<Figure size 432x288 with 1 Axes>"
      ]
     },
     "metadata": {
      "needs_background": "light"
     },
     "output_type": "display_data"
    }
   ],
   "source": [
    "# x축에 연도 표시\n",
    "sns.lineplot( data=economics , x='year', y='unemploy');"
   ]
  },
  {
   "cell_type": "code",
   "execution_count": 16,
   "metadata": {},
   "outputs": [
    {
     "data": {
      "image/png": "[encoded data removed]",
      "text/plain": [
       "<Figure size 432x288 with 1 Axes>"
      ]
     },
     "metadata": {
      "needs_background": "light"
     },
     "output_type": "display_data"
    }
   ],
   "source": [
    "# 신뢰구간 제거\n",
    "sns.lineplot( data=economics , x='year', y='unemploy', ci=None);"
   ]
  },
  {
   "cell_type": "code",
   "execution_count": 17,
   "metadata": {},
   "outputs": [],
   "source": [
    "mpg = pd.read_csv('mpg.csv')"
   ]
  },
  {
   "cell_type": "code",
   "execution_count": 22,
   "metadata": {},
   "outputs": [
    {
     "data": {
      "image/png": "[encoded data removed]",
      "text/plain": [
       "<Figure size 432x288 with 1 Axes>"
      ]
     },
     "metadata": {
      "needs_background": "light"
     },
     "output_type": "display_data"
    }
   ],
   "source": [
    "sns.lineplot( data = economics , x='year' , y='psavert' , ci = None);"
   ]
  },
  {
   "cell_type": "code",
   "execution_count": 24,
   "metadata": {},
   "outputs": [],
   "source": [
    "economics['month'] = economics['date2'].dt.month"
   ]
  },
  {
   "cell_type": "code",
   "execution_count": 27,
   "metadata": {},
   "outputs": [],
   "source": [
    "df_2014 = economics.query( 'year==2014' )"
   ]
  },
  {
   "cell_type": "code",
   "execution_count": 28,
   "metadata": {},
   "outputs": [
    {
     "data": {
      "image/png": "[encoded data removed]",
      "text/plain": [
       "<Figure size 432x288 with 1 Axes>"
      ]
     },
     "metadata": {
      "needs_background": "light"
     },
     "output_type": "display_data"
    }
   ],
   "source": [
    "sns.lineplot( data = df_2014 , x = 'month', y='psavert', ci=None);"
   ]
  },
  {
   "cell_type": "code",
   "execution_count": null,
   "metadata": {},
   "outputs": [],
   "source": []
  }
 ],
 "metadata": {
  "kernelspec": {
   "display_name": "Python 3",
   "language": "python",
   "name": "python3"
  },
  "language_info": {
   "codemirror_mode": {
    "name": "ipython",
    "version": 3
   },
   "file_extension": ".py",
   "mimetype": "text/x-python",
   "name": "python",
   "nbconvert_exporter": "python",
   "pygments_lexer": "ipython3",
   "version": "3.7.6"
  }
 },
 "nbformat": 4,
 "nbformat_minor": 4
}
