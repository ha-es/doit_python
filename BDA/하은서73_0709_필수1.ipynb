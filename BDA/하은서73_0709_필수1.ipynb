{
 "cells": [
  {
   "cell_type": "markdown",
   "metadata": {},
   "source": [
    "### 230709 하은서 필수과제1\n",
    "\n",
    "'*', '+'\n",
    "\n",
    "둘의 차이를 찾아서 코드 작성하고, 주석처리 부탁드립니다."
   ]
  },
  {
   "cell_type": "markdown",
   "metadata": {},
   "source": [
    "### `*`\n",
    "\n",
    "\n",
    "- 반복을 나타내는 메타문자로써, 해당 메타문자 앞의 글자가 *0번이상 반복*되는 모든 문자열과 매치"
   ]
  },
  {
   "cell_type": "code",
   "execution_count": 1,
   "metadata": {},
   "outputs": [
    {
     "name": "stdout",
     "output_type": "stream",
     "text": [
      "['a', 'aaa', 'aaaaa', 'aaaa', 'aa']\n"
     ]
    }
   ],
   "source": [
    "import re\n",
    "\n",
    "source = \"fast naaav naaaaave naaaavvaav\"\n",
    "\n",
    "test = re.compile('aa*')\n",
    "print(test.findall(source))"
   ]
  },
  {
   "cell_type": "markdown",
   "metadata": {},
   "source": [
    "### `+`\n",
    "\n",
    "- 반복을 나타내는 메타문자\n",
    "- *는 다르게 앞의 글자가 0번을 제외한, *1번이상 반복*되는 모든 문자열과 매치"
   ]
  },
  {
   "cell_type": "code",
   "execution_count": 3,
   "metadata": {},
   "outputs": [
    {
     "name": "stdout",
     "output_type": "stream",
     "text": [
      "['baaa', 'baaaaa', 'baaaa']\n"
     ]
    }
   ],
   "source": [
    "source2 = \"fbst nbaaav nbaaaaave nbaaaavvaav\"\n",
    "\n",
    "test2 = re.compile('ba+')\n",
    "print(test2.findall(source2))"
   ]
  },
  {
   "cell_type": "code",
   "execution_count": null,
   "metadata": {},
   "outputs": [],
   "source": []
  }
 ],
 "metadata": {
  "kernelspec": {
   "display_name": "Python 3",
   "language": "python",
   "name": "python3"
  },
  "language_info": {
   "codemirror_mode": {
    "name": "ipython",
    "version": 3
   },
   "file_extension": ".py",
   "mimetype": "text/x-python",
   "name": "python",
   "nbconvert_exporter": "python",
   "pygments_lexer": "ipython3",
   "version": "3.10.2"
  },
  "orig_nbformat": 4
 },
 "nbformat": 4,
 "nbformat_minor": 2
}
