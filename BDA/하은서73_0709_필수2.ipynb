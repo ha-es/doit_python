{
 "cells": [
  {
   "cell_type": "markdown",
   "metadata": {},
   "source": [
    "### 230709 하은서 필수과제2\n",
    "\n",
    "정규표현식 수업시간에 배우지 않는 것 최소 5개 이상 찾아주시고, 해당 정규표현식 코드 작성 및 주석으로 어떤 원리로 작동하는지 체크해 주세요!"
   ]
  },
  {
   "cell_type": "code",
   "execution_count": 2,
   "metadata": {},
   "outputs": [],
   "source": [
    "import re\n",
    "import pandas as pd\n"
   ]
  },
  {
   "cell_type": "code",
   "execution_count": 11,
   "metadata": {},
   "outputs": [
    {
     "data": {
      "text/plain": [
       "<re.Match object; span=(0, 3), match='abc'>"
      ]
     },
     "execution_count": 11,
     "metadata": {},
     "output_type": "execute_result"
    }
   ],
   "source": [
    "# '.' 기호\n",
    "# 한 개의 임의의 문자를 나타냄\n",
    "\n",
    "r = re.compile('a.c')   # a와c 사이에 임의의 문자 1개가 올 수 있음\n",
    "r.search('abc')"
   ]
  },
  {
   "cell_type": "code",
   "execution_count": 15,
   "metadata": {},
   "outputs": [
    {
     "data": {
      "text/plain": [
       "<re.Match object; span=(0, 2), match='ab'>"
      ]
     },
     "execution_count": 15,
     "metadata": {},
     "output_type": "execute_result"
    }
   ],
   "source": [
    "# '^' 기호\n",
    "# 시작되는 문자열 지정\n",
    "\n",
    "r = re.compile('^ab')   # 문자열 ab로 시작하는 경우 매치\n",
    "r.search('abcdefg')"
   ]
  },
  {
   "cell_type": "code",
   "execution_count": 18,
   "metadata": {},
   "outputs": [
    {
     "name": "stdout",
     "output_type": "stream",
     "text": [
      "<re.Match object; span=(0, 8), match='oooooops'>\n",
      "None\n"
     ]
    }
   ],
   "source": [
    "# {숫자,}기호\n",
    "# 문자에 해당 기호를 붙이면 해당 문자를 숫자 이상 만큼 반복\n",
    "\n",
    "r = re.compile('o{3,}ps')\n",
    "print(r.search('oooooops'))\n",
    "print(r.search('oops'))"
   ]
  },
  {
   "cell_type": "code",
   "execution_count": 20,
   "metadata": {},
   "outputs": [
    {
     "data": {
      "text/plain": [
       "['hello', 'world', '2023']"
      ]
     },
     "execution_count": 20,
     "metadata": {},
     "output_type": "execute_result"
    }
   ],
   "source": [
    "# re.split()\n",
    "# 입력된 정규 표현식을 기준으로 문자열들을 분리하여 리스트로 리턴\n",
    "\n",
    "t = \"hello world 2023\"\n",
    "re.split(\" \", t)\n"
   ]
  },
  {
   "cell_type": "code",
   "execution_count": 22,
   "metadata": {},
   "outputs": [
    {
     "data": {
      "text/plain": [
       "['vvw', 'vvw']"
      ]
     },
     "execution_count": 22,
     "metadata": {},
     "output_type": "execute_result"
    }
   ],
   "source": [
    "# {m, n}\n",
    "# 앞의 단어가 m이상, n이하 반복되는 것 출력\n",
    "\n",
    "s = re.compile('v{1,2}w')\n",
    "s.findall('hello world nvvvvvww 123333 vvvwwvvv')\n",
    "\n"
   ]
  },
  {
   "cell_type": "code",
   "execution_count": 28,
   "metadata": {},
   "outputs": [
    {
     "data": {
      "text/plain": [
       "<re.Match object; span=(0, 5), match='hello'>"
      ]
     },
     "execution_count": 28,
     "metadata": {},
     "output_type": "execute_result"
    }
   ],
   "source": [
    "# ^$\n",
    "# ^ : 맨 처음 와야하는 단어\n",
    "# $ : 맨 마지막에 와야하는 단어\n",
    "\n",
    "s = re.compile('^hello')\n",
    "s.search('hello world')"
   ]
  },
  {
   "cell_type": "code",
   "execution_count": null,
   "metadata": {},
   "outputs": [],
   "source": []
  }
 ],
 "metadata": {
  "kernelspec": {
   "display_name": "Python 3",
   "language": "python",
   "name": "python3"
  },
  "language_info": {
   "codemirror_mode": {
    "name": "ipython",
    "version": 3
   },
   "file_extension": ".py",
   "mimetype": "text/x-python",
   "name": "python",
   "nbconvert_exporter": "python",
   "pygments_lexer": "ipython3",
   "version": "3.10.2"
  },
  "orig_nbformat": 4
 },
 "nbformat": 4,
 "nbformat_minor": 2
}
