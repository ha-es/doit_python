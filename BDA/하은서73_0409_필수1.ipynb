{
 "cells": [
  {
   "attachments": {},
   "cell_type": "markdown",
   "metadata": {},
   "source": [
    "### 230409 하은서 필수과제1\n",
    "\n",
    "- 도수분포표의 개념 설명과\n",
    "- 도수분포표의 예시 코드를 통해 시각화 설명하기!"
   ]
  },
  {
   "attachments": {},
   "cell_type": "markdown",
   "metadata": {},
   "source": [
    "### <font color=pink> __도수분포표__ </font>\n",
    "\n",
    "- '빈도수 분포'라고 할 수 있으며, 자료의 분표를 구간으로 나누고, 나누어진 각 구간에 속하는 자료가 몇 개인지 정리하는 표\n",
    "\n",
    "- 데이터 정리에서 제일 많이 사용!\n",
    "- 도수 : 각 범주에 속하는 관측값의 개수를 그 범주에 도수라고함\n",
    "\n",
    "\n",
    "\n",
    "\n",
    "\n",
    "\n",
    "### <font color=pink> __범주형 데이터 도수분포표__ </font>\n",
    "- 측정값이 나타나는 빈도수(도수)를 정리한 것\n",
    "<br>--> 범주가 나타나는 횟수 요약\n",
    "\n",
    "\n",
    "\n",
    "### <font color=pink> __연속형 데이터 도수분포표__ </font>\n",
    "- 구간을 나누어 각 구간의 빈도수를 조사해 도수분포표 작성 가능함\n",
    "- 일반적으로 동일한 간격, 서로 중복되지 않은 계급구간을 여러 개 설정"
   ]
  },
  {
   "cell_type": "code",
   "execution_count": 2,
   "metadata": {},
   "outputs": [],
   "source": [
    "import pandas as pd\n",
    "import numpy as np\n",
    "import matplotlib.pyplot as plt"
   ]
  },
  {
   "attachments": {},
   "cell_type": "markdown",
   "metadata": {},
   "source": [
    "### 히스토그램\n",
    "- hist"
   ]
  },
  {
   "cell_type": "code",
   "execution_count": 4,
   "metadata": {},
   "outputs": [
    {
     "data": {
      "text/html": [
       "<div>\n",
       "<style scoped>\n",
       "    .dataframe tbody tr th:only-of-type {\n",
       "        vertical-align: middle;\n",
       "    }\n",
       "\n",
       "    .dataframe tbody tr th {\n",
       "        vertical-align: top;\n",
       "    }\n",
       "\n",
       "    .dataframe thead th {\n",
       "        text-align: right;\n",
       "    }\n",
       "</style>\n",
       "<table border=\"1\" class=\"dataframe\">\n",
       "  <thead>\n",
       "    <tr style=\"text-align: right;\">\n",
       "      <th></th>\n",
       "      <th>연도</th>\n",
       "      <th>자산총계</th>\n",
       "      <th>부채총계</th>\n",
       "      <th>자본총계</th>\n",
       "      <th>매출액</th>\n",
       "      <th>영업이익</th>\n",
       "      <th>당기순이익</th>\n",
       "      <th>부채비율</th>\n",
       "    </tr>\n",
       "  </thead>\n",
       "  <tbody>\n",
       "    <tr>\n",
       "      <th>0</th>\n",
       "      <td>2016</td>\n",
       "      <td>9.776068e+10</td>\n",
       "      <td>23419492827</td>\n",
       "      <td>7.434119e+10</td>\n",
       "      <td>9.499312e+10</td>\n",
       "      <td>2379822965</td>\n",
       "      <td>480426339</td>\n",
       "      <td>76.044057</td>\n",
       "    </tr>\n",
       "    <tr>\n",
       "      <th>1</th>\n",
       "      <td>2017</td>\n",
       "      <td>1.043490e+11</td>\n",
       "      <td>23398872100</td>\n",
       "      <td>8.095035e+10</td>\n",
       "      <td>1.207350e+11</td>\n",
       "      <td>6987071352</td>\n",
       "      <td>7797097354</td>\n",
       "      <td>77.576381</td>\n",
       "    </tr>\n",
       "    <tr>\n",
       "      <th>2</th>\n",
       "      <td>2018</td>\n",
       "      <td>1.255730e+11</td>\n",
       "      <td>24027374437</td>\n",
       "      <td>1.015450e+11</td>\n",
       "      <td>1.633750e+11</td>\n",
       "      <td>6412992156</td>\n",
       "      <td>4153603488</td>\n",
       "      <td>80.865781</td>\n",
       "    </tr>\n",
       "    <tr>\n",
       "      <th>3</th>\n",
       "      <td>2019</td>\n",
       "      <td>1.361390e+11</td>\n",
       "      <td>34941404675</td>\n",
       "      <td>1.011980e+11</td>\n",
       "      <td>1.915460e+11</td>\n",
       "      <td>3664066464</td>\n",
       "      <td>3181392223</td>\n",
       "      <td>74.334031</td>\n",
       "    </tr>\n",
       "    <tr>\n",
       "      <th>4</th>\n",
       "      <td>2020</td>\n",
       "      <td>1.446900e+11</td>\n",
       "      <td>35459747467</td>\n",
       "      <td>1.092300e+11</td>\n",
       "      <td>2.662270e+11</td>\n",
       "      <td>7227983716</td>\n",
       "      <td>6501208590</td>\n",
       "      <td>75.492644</td>\n",
       "    </tr>\n",
       "  </tbody>\n",
       "</table>\n",
       "</div>"
      ],
      "text/plain": [
       "     연도          자산총계         부채총계          자본총계           매출액        영업이익  \\\n",
       "0  2016  9.776068e+10  23419492827  7.434119e+10  9.499312e+10  2379822965   \n",
       "1  2017  1.043490e+11  23398872100  8.095035e+10  1.207350e+11  6987071352   \n",
       "2  2018  1.255730e+11  24027374437  1.015450e+11  1.633750e+11  6412992156   \n",
       "3  2019  1.361390e+11  34941404675  1.011980e+11  1.915460e+11  3664066464   \n",
       "4  2020  1.446900e+11  35459747467  1.092300e+11  2.662270e+11  7227983716   \n",
       "\n",
       "        당기순이익       부채비율  \n",
       "0   480426339  76.044057  \n",
       "1  7797097354  77.576381  \n",
       "2  4153603488  80.865781  \n",
       "3  3181392223  74.334031  \n",
       "4  6501208590  75.492644  "
      ]
     },
     "execution_count": 4,
     "metadata": {},
     "output_type": "execute_result"
    }
   ],
   "source": [
    "df = pd.read_csv('재무제표샘플_대원미디어.csv', encoding='euc-kr')\n",
    "df"
   ]
  },
  {
   "cell_type": "code",
   "execution_count": 6,
   "metadata": {},
   "outputs": [],
   "source": [
    "#시각화를 위한 한글 폰트 설정\n",
    "plt.rc('font', family= 'Malgun Gothic')\n",
    "plt.rc('axes', unicode_minus = False)"
   ]
  },
  {
   "cell_type": "code",
   "execution_count": 23,
   "metadata": {},
   "outputs": [
    {
     "data": {
      "text/plain": [
       "(array([[5., 0., 0., 0., 0., 0., 0., 0., 0., 0.],\n",
       "        [0., 0., 0., 2., 1., 2., 0., 0., 0., 0.],\n",
       "        [3., 2., 0., 0., 0., 0., 0., 0., 0., 0.],\n",
       "        [0., 0., 1., 3., 1., 0., 0., 0., 0., 0.],\n",
       "        [0., 0., 0., 1., 1., 0., 1., 1., 0., 1.],\n",
       "        [5., 0., 0., 0., 0., 0., 0., 0., 0., 0.],\n",
       "        [5., 0., 0., 0., 0., 0., 0., 0., 0., 0.],\n",
       "        [5., 0., 0., 0., 0., 0., 0., 0., 0., 0.]]),\n",
       " array([7.43340313e+01, 2.66227001e+10, 5.32454001e+10, 7.98681001e+10,\n",
       "        1.06490800e+11, 1.33113500e+11, 1.59736200e+11, 1.86358900e+11,\n",
       "        2.12981600e+11, 2.39604300e+11, 2.66227000e+11]),\n",
       " <a list of 8 list[Polygon] objects>)"
      ]
     },
     "execution_count": 23,
     "metadata": {},
     "output_type": "execute_result"
    },
    {
     "data": {
      "image/png": "[encoded data removed]",
      "text/plain": [
       "<Figure size 640x480 with 1 Axes>"
      ]
     },
     "metadata": {},
     "output_type": "display_data"
    }
   ],
   "source": [
    "plt.hist(df,histtype='step')"
   ]
  },
  {
   "cell_type": "code",
   "execution_count": null,
   "metadata": {},
   "outputs": [],
   "source": []
  }
 ],
 "metadata": {
  "kernelspec": {
   "display_name": "Python 3",
   "language": "python",
   "name": "python3"
  },
  "language_info": {
   "codemirror_mode": {
    "name": "ipython",
    "version": 3
   },
   "file_extension": ".py",
   "mimetype": "text/x-python",
   "name": "python",
   "nbconvert_exporter": "python",
   "pygments_lexer": "ipython3",
   "version": "3.10.2"
  },
  "orig_nbformat": 4
 },
 "nbformat": 4,
 "nbformat_minor": 2
}
