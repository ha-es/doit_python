{
 "cells": [
  {
   "attachments": {},
   "cell_type": "markdown",
   "metadata": {},
   "source": [
    "# 0326 복습"
   ]
  },
  {
   "attachments": {},
   "cell_type": "markdown",
   "metadata": {},
   "source": [
    "**`missingno`란?**\n",
    "- **결측데이터**를 파악하는데 직관적인 도움을 주는 패키지\n",
    "```python\n",
    " import missingno as msno"
   ]
  },
  {
   "attachments": {},
   "cell_type": "markdown",
   "metadata": {},
   "source": [
    "<u>bar</u>\n",
    "- 지정한 트레인 데이터셋에 대한 결측치를 바 형태의 차트로 시각화\n",
    "- 수치적으로 편한게 볼 수 있음\n",
    "\n",
    "<u>matrix</u>\n",
    "- 지정한 트레인 데이터셋에 대한 결측치를 매트릭스로 시각화"
   ]
  },
  {
   "attachments": {},
   "cell_type": "markdown",
   "metadata": {},
   "source": [
    "**`NA값 대체 방법`**\n",
    "- **mean() 사용하여 평균값**으로 대체하기\n",
    "- fillna(0) na값 0으로 대체 --> **위험 !**\n",
    "\n",
    "\n",
    "<u>ffill</u>\n",
    "- **누락값이 나타나기 전의 값**으로 누락값 변경\n",
    "\n",
    "<u>bfill</u>\n",
    "- **누락값이 나타난 이후 첫 번째 값**으로 앞쪽의 누락값 변경"
   ]
  },
  {
   "attachments": {},
   "cell_type": "markdown",
   "metadata": {},
   "source": [
    "**`보간법`으로 결측값 대체하기**\n",
    "\n",
    "**<span style=\"color: #ffd33d\">interpolate( method= ' ' )</span>**\n",
    "\n",
    "<br><u>선형보간법</u>\n",
    "```python\n",
    "ebola.interpolate(method='linear')"
   ]
  },
  {
   "attachments": {},
   "cell_type": "markdown",
   "metadata": {},
   "source": [
    "<u>스플라인 보간법</u>\n",
    "- 각 데이터의 포인트 구간별로 낮은 수준의 다항식 보간을 사용함\n",
    "- 직선으로 연결되는 것 보다 좀 더 부드럽게 연결\n",
    "```python\n",
    "ebola.interpolate(method='quadratic')"
   ]
  },
  {
   "attachments": {},
   "cell_type": "markdown",
   "metadata": {},
   "source": [
    "<u>시계열 날짜 index 기준 보간법</u>\n",
    "```python\n",
    "ebola.interpolate(method='time')"
   ]
  },
  {
   "attachments": {},
   "cell_type": "markdown",
   "metadata": {},
   "source": [
    "**`열과 피벗` 개념**\n",
    "- 엑셀에서 진행하는 피벗테이블의 개념과 유사\n",
    "\n",
    "<u>`melt 함수`</u>\n",
    "- melt 메서드 인자\n",
    "- id_vars : 위치를 그대로 유지할 열의 이름을 지정\n",
    "- value_vars : 행으로 위치를 변경할 열의 이름을 지정\n",
    "- var_name :value_vars로 위치 변경할 열의 이름\n",
    "- value_name : var_ name의 위치 변경할 열의 데이터를 저장한 열의 이름\n",
    "\n",
    "<br>\n",
    "\n",
    "```python\n",
    "pd.melt(pew, id_vars='religion', var_name='inconme', value_name='count')\n",
    "\n",
    "# 축 2개인 경우\n",
    "pd.melt(bill, id_vars=['year','artist','track','time','date.entered'], var_name='week',value_name='rating')"
   ]
  },
  {
   "attachments": {},
   "cell_type": "markdown",
   "metadata": {},
   "source": [
    "<u>`transpose 메서드`</u>\n",
    "- 전치의 개념 --> 행과 열을 바꿔줌"
   ]
  },
  {
   "attachments": {},
   "cell_type": "markdown",
   "metadata": {},
   "source": [
    "**`유의미한 컬럼 변수로` 만들기**\n",
    "- 컬럼에 있는 의미를 분리해 새로운 변수를 만들어 사용할 수 있음\n",
    "- 기존에 있는 변수를 split 나눠서 새로운 변수 두 개로 만들기\n",
    "- 피처엔지니어링 개념으로 이해해서 머신에게 학습시킬 때 좀 더 잘 학습시키기 위해서 나누는 과정\n",
    "\n",
    "<br>\n",
    "<u>문자열 칼럼 분할</u>\n",
    "\n",
    "```python\n",
    "str.split('_')\n",
    "str.get(0)  #str문법 중 get( )으로 문자열 가져오기"
   ]
  },
  {
   "attachments": {},
   "cell_type": "markdown",
   "metadata": {},
   "source": []
  },
  {
   "attachments": {},
   "cell_type": "markdown",
   "metadata": {},
   "source": [
    "# 0402 복습"
   ]
  },
  {
   "attachments": {},
   "cell_type": "markdown",
   "metadata": {},
   "source": [
    "**`Series`**\n",
    "- **index**와 **values** 동시 확인 가능\n",
    "- Series의 이름과 index에 이름을 지정 가능\n",
    "```python\n",
    "import pandas as pd\n",
    "a= pd.Series(['홍길동', 15], index = ['name','age'])    #Series형태 만들기\n",
    "\n",
    "a.index\n",
    "a.values\n",
    "\n",
    "drop_duplicates()   #중복제거"
   ]
  },
  {
   "attachments": {},
   "cell_type": "markdown",
   "metadata": {},
   "source": [
    "<u>Series 연산</u>\n",
    "- 시리즈는 다양한 연산 가능( mean(), max() 등)\n",
    "- 데이터 프레임은 바로 값을 계산하는 데 한계, 시리즈는 자유자재로 array 계산 가능\n",
    "\n",
    "<u>index기반 내림차순</u>\n",
    "```python\n",
    "sort_index(ascending=False)"
   ]
  },
  {
   "attachments": {},
   "cell_type": "markdown",
   "metadata": {},
   "source": [
    "**`DataFrame`**\n",
    "- **boolean** 추출을 통해 값 -> 즉, 참이거나 거짓이 되는 값 출력 (T/F)\n",
    "- **데이터 타입 확인** --> dtype\n",
    "- **컬럼만 추출 시** --> columns\n"
   ]
  },
  {
   "attachments": {},
   "cell_type": "markdown",
   "metadata": {},
   "source": []
  },
  {
   "attachments": {},
   "cell_type": "markdown",
   "metadata": {},
   "source": [
    "**`시각화`**\n",
    "- 대표적인 라이브러리\n",
    "\n",
    "```python\n",
    "from seaborn import as sns\n",
    "from matplotlib import pyplot as plt"
   ]
  },
  {
   "attachments": {},
   "cell_type": "markdown",
   "metadata": {},
   "source": [
    "<u>`matplotlib` 산점도</u>\n",
    "\n",
    "```python\n",
    "plt.scatter([1,2,3,],[4,5,6])\n",
    "\n",
    "#두개이상 그리면 자동으로 합쳐짐\n",
    "plt.scatter([1,2,3],[4,5,6])\n",
    "plt.scatter([5,6,7],[10,5,6])\n",
    "plt.scatter([2,4,8],[1,2,5])\n",
    "\n",
    "#축과 이름 지정\n",
    "plt.scatter([1,2,3],[4,5,6])\n",
    "plt.title('mpg.cty') # 제목\n",
    "plt.xlabel('mpg.hwy') # x축에 대한 설명\n",
    "plt.ylabel('mpg.cty') # y축에 대한 설명\n",
    "\n",
    "#축의 범위 설정\n",
    "plt.xlim(0,200)\n",
    "plt.ylim(30,50)\n",
    "\n",
    "#눈금값 조절\n",
    "plt.xticks([1,2,3],['A','B','C'])\n",
    "plt.yticks(['A','B','C'],[1,2,3])\n",
    "\n",
    "# 범례 -> legend()\n",
    "# label 범례 출력\n",
    "plt.scatter([1,2,3],[4,5,6], label='mpg.cty')\n",
    "plt.scatter([6,7,8],[3,2,5], label='mpg.hwy')\n",
    "plt.legend()\n"
   ]
  },
  {
   "attachments": {},
   "cell_type": "markdown",
   "metadata": {},
   "source": [
    "<u>그래프 크기 조절</u>\n",
    "- figure()의 figsize 이용해 조절\n",
    "<br></br>\n",
    "```python\n",
    "plt.figure(figsize=(10,5))"
   ]
  },
  {
   "attachments": {},
   "cell_type": "markdown",
   "metadata": {},
   "source": [
    "<u>`seaboen` 산점도</u>\n",
    "```python\n",
    "sns.set()   #기본값 grid\n",
    "sns.set(style = 'whitegrid')\n",
    "sns.set(style = 'dark')"
   ]
  },
  {
   "attachments": {},
   "cell_type": "markdown",
   "metadata": {},
   "source": [
    "<u>그래프 색상</u>\n",
    "- 다양한 color 사용 가능\n",
    "```python\n",
    "sns.set( style = 'whitegrid')\n",
    "plt.plot([1,2,3],[4,5,6],label='mpg.cty',color='red')\n",
    "plt.plot([6,7,8],[3,2,5],label='mpg.hwy',color='blue')\n",
    "plt.legend()\n"
   ]
  },
  {
   "attachments": {},
   "cell_type": "markdown",
   "metadata": {},
   "source": [
    "<u>그래프 선 스타일 및 두께</u>\n",
    "- 선 형태 : dashed, dotted, dashdot, solid\n",
    "- 선 두께 : linesidth\n",
    "\n",
    "```python\n",
    "sns.set(style = 'whitegrid')\n",
    "plt.plot([1,2,3],[4,5,6], label = 'mpg.cty', color='red', linestyle='dashed', linewidth=10)\n",
    "plt.plot([6,7,8],[3,2,5],label='mpg.hwy',color='blue',linestyle='dotted', linewidth=5)\n",
    "plt.legend()"
   ]
  },
  {
   "attachments": {},
   "cell_type": "markdown",
   "metadata": {},
   "source": [
    "<u>마커 설정</u>\n",
    "- 값에 대한 포인트 지정해서 해당 값이 어디에 위치하는지 찍어줌\n",
    "- '.' : 점\n",
    "- 'o' : 원\n",
    "- '*' : 별\n",
    "\n",
    "\n",
    "```python\n",
    "plt.plot([1,2,3],[4,5,6],marker='s',label='mpg.cty',color='red',linestyle='dashed')\n",
    "plt.plot([6,7,8],[3,2,5],marker='*',label='mpg.hwy',color='blue',linestyle='dotted')\n",
    "plt.legend()"
   ]
  },
  {
   "attachments": {},
   "cell_type": "markdown",
   "metadata": {},
   "source": [
    "<u>투명도</u>\n",
    "\n",
    "```python\n",
    "import numpy as np\n",
    "x = np.random.normal(0,1,5000)\n",
    "y = np.random.normal(0,1,5000)\n",
    "plt.scatter(x, y, alpha=0.05)"
   ]
  },
  {
   "attachments": {},
   "cell_type": "markdown",
   "metadata": {},
   "source": []
  }
 ],
 "metadata": {
  "language_info": {
   "name": "python"
  },
  "orig_nbformat": 4
 },
 "nbformat": 4,
 "nbformat_minor": 2
}
