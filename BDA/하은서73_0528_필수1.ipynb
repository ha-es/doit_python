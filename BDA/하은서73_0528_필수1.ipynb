{
 "cells": [
  {
   "attachments": {},
   "cell_type": "markdown",
   "metadata": {},
   "source": [
    "### 230528 하은서 필수과제1"
   ]
  },
  {
   "attachments": {},
   "cell_type": "markdown",
   "metadata": {},
   "source": [
    "- prophet에 들어가는 하이퍼파라미터 다 정리해 주시고, 실제 값을 넣어서 예측값이 변화하는 것을 확인하기( 코드 & 주석 필수 )"
   ]
  },
  {
   "attachments": {},
   "cell_type": "markdown",
   "metadata": {},
   "source": [
    "#### <font color=cyan> __Prophet__ </font>\n",
    "\n",
    "- 예측 라이브러리\n",
    "- 시계열 데이터를 모델링하기 위해\n",
    "\n",
    "#### <font color=cyan> _changepoint_prior_scale_ </font>\n",
    "- default 값 0.05 \n",
    "- 추세에 따라 데이터를 유연하게 반영할 것인지 아닌지 결정하는 파라미터\n",
    "- 추세에 덜 유연하게 반영하려면 0.05보다 크게 설정\n",
    "\n",
    "\n",
    "#### <font color=cyan> _cseasonality_prior_scale_ </font>\n",
    "- default 값 10\n",
    "- 계절의 유연성을 제어하는 파라미터\n",
    "- 파라미터 값이 크면 계절성의 영향이 커지고, 작으면 영향이 줄어듦\n",
    "- 합리적인 조정범위는 [0.01, 10] 사이\n",
    "\n",
    "\n",
    "#### <font color=cyan> _holidays_prior_scale_ </font>\n",
    "- default 값 10.0\n",
    "- 휴일의 영향에 따라 유연성을 조정하는 파라미터\n",
    "- 조절범위 [0.01, 10]\n",
    "\n",
    "\n",
    "#### <font color=cyan> _seasonality_mode_ </font>\n",
    "- default 값 'additive'\n",
    "- 'additive' : 시계열 데이터가 진폭이 일정할 때\n",
    "- 'multiflicative' : 시계열 데이터의 진폭이 점점 증가하거나 감소할 때\n",
    "\n",
    "\n",
    "#### <font color=cyan> _changepoint_range_ </font>\n",
    "- default 값 0.8\n",
    "- change point의 설정 가능 범위를 의미\n",
    "- 0.8인경우 데이터의 80% 중 changepoint를 자동으로 설정\n",
    "- 조절범위 [0.8, 0.95]\n",
    "\n",
    "\n",
    "#### <font color=cyan> _growth_ </font>\n",
    "- default 값 linear\n",
    "- liner, logistic\n",
    "\n",
    "\n",
    "#### <font color=cyan> _changepoints_</font>\n",
    "- default 값 auto\n",
    "- 변경점을 수동으로 설정하기 위한 파라미터\n",
    "\n",
    "\n",
    "#### <font color=cyan> _n_changepoints_</font>\n",
    "- default 값 25\n",
    "- 자동으로 배치된 변경점의 수, 일반적인 시계열의 추세 변화를 파악하기 위해\n",
    "충분한 수로 설정\n",
    "- 추세 변화에서 유연성을 변경하는 것이 더 효과적\n",
    "\n",
    "\n",
    "#### <font color=cyan> _yearly_seasonality_</font>\n",
    "- default 값 auto\n",
    "- 데이터와 연간 계절성을 가지려면 true 아니면 false\n",
    "\n",
    "\n",
    "#### <font color=cyan> _mcmc_samples_</font>\n",
    "- default 값 0\n",
    "- 계절의 불확실성을 확인할 때 사용\n",
    "- 계절성에 대한 불확실성을 얻으려면 전체 베이지안 샘플링을 수행해야함\n",
    "\n",
    "\n",
    "#### <font color=cyan> _interval_width_</font>\n",
    "- default 값 0.8\n",
    "- yhat_upper, yhat_lower 처럼 불확실성 구간을 반환\n",
    "\n",
    "\n",
    "#### <font color=cyan> _uncertainty_samples_</font>\n",
    "- default 값 1000\n",
    "- 불확실성의 구간 조정"
   ]
  },
  {
   "cell_type": "code",
   "execution_count": 6,
   "metadata": {},
   "outputs": [],
   "source": [
    "from prophet import Prophet\n",
    "import pandas as pd\n",
    "import matplotlib.pyplot as plt"
   ]
  },
  {
   "cell_type": "code",
   "execution_count": null,
   "metadata": {},
   "outputs": [],
   "source": []
  }
 ],
 "metadata": {
  "kernelspec": {
   "display_name": "Python 3",
   "language": "python",
   "name": "python3"
  },
  "language_info": {
   "codemirror_mode": {
    "name": "ipython",
    "version": 3
   },
   "file_extension": ".py",
   "mimetype": "text/x-python",
   "name": "python",
   "nbconvert_exporter": "python",
   "pygments_lexer": "ipython3",
   "version": "3.10.2"
  },
  "orig_nbformat": 4
 },
 "nbformat": 4,
 "nbformat_minor": 2
}
