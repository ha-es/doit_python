{
 "cells": [
  {
   "attachments": {},
   "cell_type": "markdown",
   "metadata": {},
   "source": [
    "### 230409 하은서 필수과제2\n",
    "- mpg, 타이타닉 데이터를 groupby 등으로 깔끔하게 정리한 데이터를 비교 시각화 진행해 주세요.\n",
    "- 최소 시각화는 5개 이상을 해주시고 ( 우리가 배웠던 다양한 그래프는 필수적으로 1개 이상씩은 진행해 주셔야 합니다. )"
   ]
  },
  {
   "cell_type": "markdown",
   "metadata": {},
   "source": []
  }
 ],
 "metadata": {
  "language_info": {
   "name": "python"
  },
  "orig_nbformat": 4
 },
 "nbformat": 4,
 "nbformat_minor": 2
}
