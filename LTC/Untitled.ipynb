{
 "cells": [
  {
   "cell_type": "code",
   "execution_count": 1,
   "metadata": {},
   "outputs": [],
   "source": [
    "import pandas as pd\n",
    "import seaborn as sns\n",
    "import matplotlib.pyplot as plt"
   ]
  },
  {
   "cell_type": "code",
   "execution_count": 2,
   "metadata": {},
   "outputs": [
    {
     "data": {
      "text/html": [
       "<div>\n",
       "<style scoped>\n",
       "    .dataframe tbody tr th:only-of-type {\n",
       "        vertical-align: middle;\n",
       "    }\n",
       "\n",
       "    .dataframe tbody tr th {\n",
       "        vertical-align: top;\n",
       "    }\n",
       "\n",
       "    .dataframe thead th {\n",
       "        text-align: right;\n",
       "    }\n",
       "</style>\n",
       "<table border=\"1\" class=\"dataframe\">\n",
       "  <thead>\n",
       "    <tr style=\"text-align: right;\">\n",
       "      <th></th>\n",
       "      <th>기준연월</th>\n",
       "      <th>시군구코드</th>\n",
       "      <th>시도명</th>\n",
       "      <th>시군구명</th>\n",
       "      <th>5세단위구분</th>\n",
       "      <th>총인구수</th>\n",
       "      <th>남성인구수</th>\n",
       "      <th>여성인구수</th>\n",
       "    </tr>\n",
       "  </thead>\n",
       "  <tbody>\n",
       "    <tr>\n",
       "      <th>0</th>\n",
       "      <td>202007</td>\n",
       "      <td>11110</td>\n",
       "      <td>서울특별시</td>\n",
       "      <td>종로구</td>\n",
       "      <td>0-4세</td>\n",
       "      <td>3315</td>\n",
       "      <td>1678</td>\n",
       "      <td>1637</td>\n",
       "    </tr>\n",
       "    <tr>\n",
       "      <th>1</th>\n",
       "      <td>202008</td>\n",
       "      <td>11110</td>\n",
       "      <td>서울특별시</td>\n",
       "      <td>종로구</td>\n",
       "      <td>0-4세</td>\n",
       "      <td>3258</td>\n",
       "      <td>1648</td>\n",
       "      <td>1610</td>\n",
       "    </tr>\n",
       "    <tr>\n",
       "      <th>2</th>\n",
       "      <td>202009</td>\n",
       "      <td>11110</td>\n",
       "      <td>서울특별시</td>\n",
       "      <td>종로구</td>\n",
       "      <td>0-4세</td>\n",
       "      <td>3221</td>\n",
       "      <td>1623</td>\n",
       "      <td>1598</td>\n",
       "    </tr>\n",
       "    <tr>\n",
       "      <th>3</th>\n",
       "      <td>202010</td>\n",
       "      <td>11110</td>\n",
       "      <td>서울특별시</td>\n",
       "      <td>종로구</td>\n",
       "      <td>0-4세</td>\n",
       "      <td>3171</td>\n",
       "      <td>1596</td>\n",
       "      <td>1575</td>\n",
       "    </tr>\n",
       "    <tr>\n",
       "      <th>4</th>\n",
       "      <td>202011</td>\n",
       "      <td>11110</td>\n",
       "      <td>서울특별시</td>\n",
       "      <td>종로구</td>\n",
       "      <td>0-4세</td>\n",
       "      <td>3133</td>\n",
       "      <td>1589</td>\n",
       "      <td>1544</td>\n",
       "    </tr>\n",
       "    <tr>\n",
       "      <th>...</th>\n",
       "      <td>...</td>\n",
       "      <td>...</td>\n",
       "      <td>...</td>\n",
       "      <td>...</td>\n",
       "      <td>...</td>\n",
       "      <td>...</td>\n",
       "      <td>...</td>\n",
       "      <td>...</td>\n",
       "    </tr>\n",
       "    <tr>\n",
       "      <th>62995</th>\n",
       "      <td>202102</td>\n",
       "      <td>50130</td>\n",
       "      <td>제주특별자치도</td>\n",
       "      <td>서귀포시</td>\n",
       "      <td>100+</td>\n",
       "      <td>103</td>\n",
       "      <td>13</td>\n",
       "      <td>90</td>\n",
       "    </tr>\n",
       "    <tr>\n",
       "      <th>62996</th>\n",
       "      <td>202103</td>\n",
       "      <td>50130</td>\n",
       "      <td>제주특별자치도</td>\n",
       "      <td>서귀포시</td>\n",
       "      <td>100+</td>\n",
       "      <td>63</td>\n",
       "      <td>4</td>\n",
       "      <td>59</td>\n",
       "    </tr>\n",
       "    <tr>\n",
       "      <th>62997</th>\n",
       "      <td>202104</td>\n",
       "      <td>50130</td>\n",
       "      <td>제주특별자치도</td>\n",
       "      <td>서귀포시</td>\n",
       "      <td>100+</td>\n",
       "      <td>66</td>\n",
       "      <td>4</td>\n",
       "      <td>62</td>\n",
       "    </tr>\n",
       "    <tr>\n",
       "      <th>62998</th>\n",
       "      <td>202105</td>\n",
       "      <td>50130</td>\n",
       "      <td>제주특별자치도</td>\n",
       "      <td>서귀포시</td>\n",
       "      <td>100+</td>\n",
       "      <td>71</td>\n",
       "      <td>4</td>\n",
       "      <td>67</td>\n",
       "    </tr>\n",
       "    <tr>\n",
       "      <th>62999</th>\n",
       "      <td>202106</td>\n",
       "      <td>50130</td>\n",
       "      <td>제주특별자치도</td>\n",
       "      <td>서귀포시</td>\n",
       "      <td>100+</td>\n",
       "      <td>69</td>\n",
       "      <td>4</td>\n",
       "      <td>65</td>\n",
       "    </tr>\n",
       "  </tbody>\n",
       "</table>\n",
       "<p>63000 rows × 8 columns</p>\n",
       "</div>"
      ],
      "text/plain": [
       "         기준연월  시군구코드      시도명  시군구명 5세단위구분  총인구수  남성인구수  여성인구수\n",
       "0      202007  11110    서울특별시   종로구   0-4세  3315   1678   1637\n",
       "1      202008  11110    서울특별시   종로구   0-4세  3258   1648   1610\n",
       "2      202009  11110    서울특별시   종로구   0-4세  3221   1623   1598\n",
       "3      202010  11110    서울특별시   종로구   0-4세  3171   1596   1575\n",
       "4      202011  11110    서울특별시   종로구   0-4세  3133   1589   1544\n",
       "...       ...    ...      ...   ...    ...   ...    ...    ...\n",
       "62995  202102  50130  제주특별자치도  서귀포시   100+   103     13     90\n",
       "62996  202103  50130  제주특별자치도  서귀포시   100+    63      4     59\n",
       "62997  202104  50130  제주특별자치도  서귀포시   100+    66      4     62\n",
       "62998  202105  50130  제주특별자치도  서귀포시   100+    71      4     67\n",
       "62999  202106  50130  제주특별자치도  서귀포시   100+    69      4     65\n",
       "\n",
       "[63000 rows x 8 columns]"
      ]
     },
     "execution_count": 2,
     "metadata": {},
     "output_type": "execute_result"
    }
   ],
   "source": [
    "seoul = pd.read_csv('seoul_reg_2021.csv')\n",
    "seoul"
   ]
  },
  {
   "cell_type": "code",
   "execution_count": 3,
   "metadata": {},
   "outputs": [
    {
     "data": {
      "text/plain": [
       "기준연월      0\n",
       "시군구코드     0\n",
       "시도명       0\n",
       "시군구명      0\n",
       "5세단위구분    0\n",
       "총인구수      0\n",
       "남성인구수     0\n",
       "여성인구수     0\n",
       "dtype: int64"
      ]
     },
     "execution_count": 3,
     "metadata": {},
     "output_type": "execute_result"
    }
   ],
   "source": [
    "seoul.isna().sum()"
   ]
  },
  {
   "cell_type": "code",
   "execution_count": 4,
   "metadata": {},
   "outputs": [
    {
     "name": "stdout",
     "output_type": "stream",
     "text": [
      "<class 'pandas.core.frame.DataFrame'>\n",
      "RangeIndex: 63000 entries, 0 to 62999\n",
      "Data columns (total 8 columns):\n",
      " #   Column  Non-Null Count  Dtype \n",
      "---  ------  --------------  ----- \n",
      " 0   기준연월    63000 non-null  int64 \n",
      " 1   시군구코드   63000 non-null  int64 \n",
      " 2   시도명     63000 non-null  object\n",
      " 3   시군구명    63000 non-null  object\n",
      " 4   5세단위구분  63000 non-null  object\n",
      " 5   총인구수    63000 non-null  int64 \n",
      " 6   남성인구수   63000 non-null  int64 \n",
      " 7   여성인구수   63000 non-null  int64 \n",
      "dtypes: int64(5), object(3)\n",
      "memory usage: 3.8+ MB\n"
     ]
    }
   ],
   "source": [
    "seoul.info()"
   ]
  },
  {
   "cell_type": "code",
   "execution_count": 5,
   "metadata": {},
   "outputs": [
    {
     "name": "stdout",
     "output_type": "stream",
     "text": [
      "309881489\n",
      "311554947\n"
     ]
    }
   ],
   "source": [
    "male = seoul['남성인구수'].sum()\n",
    "female = seoul['여성인구수'].sum()\n",
    "\n",
    "\n",
    "print(male)\n",
    "print(female)"
   ]
  },
  {
   "cell_type": "code",
   "execution_count": 23,
   "metadata": {},
   "outputs": [
    {
     "data": {
      "text/plain": [
       "0        0-4세\n",
       "1        0-4세\n",
       "2        0-4세\n",
       "3        0-4세\n",
       "4        0-4세\n",
       "         ... \n",
       "62995    100+\n",
       "62996    100+\n",
       "62997    100+\n",
       "62998    100+\n",
       "62999    100+\n",
       "Name: 5세단위구분, Length: 63000, dtype: object"
      ]
     },
     "execution_count": 23,
     "metadata": {},
     "output_type": "execute_result"
    }
   ],
   "source": [
    "seoul['5세단위구분']"
   ]
  },
  {
   "cell_type": "code",
   "execution_count": null,
   "metadata": {},
   "outputs": [],
   "source": []
  }
 ],
 "metadata": {
  "kernelspec": {
   "display_name": "Python 3",
   "language": "python",
   "name": "python3"
  },
  "language_info": {
   "codemirror_mode": {
    "name": "ipython",
    "version": 3
   },
   "file_extension": ".py",
   "mimetype": "text/x-python",
   "name": "python",
   "nbconvert_exporter": "python",
   "pygments_lexer": "ipython3",
   "version": "3.7.6"
  }
 },
 "nbformat": 4,
 "nbformat_minor": 4
}
